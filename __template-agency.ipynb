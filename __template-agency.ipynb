{
 "cells": [
  {
   "cell_type": "code",
   "execution_count": null,
   "metadata": {},
   "outputs": [],
   "source": [
    "##########################################################################################\n",
    "################################################################ Указать название скрипта\n",
    "script = \"__template-agency.ipynb\""
   ]
  },
  {
   "cell_type": "code",
   "execution_count": null,
   "metadata": {},
   "outputs": [],
   "source": [
    "##################################################################################\n",
    "################################################################ импорт библиотек\n",
    "import sys\n",
    "import os\n",
    "import configparser\n",
    "import pandas as pd\n",
    "\n",
    "# windows 10\n",
    "fpath = os.path.join(os.path.dirname(script), 'patterns') \n",
    "sys.path.append(fpath)\n",
    "config = configparser.ConfigParser()\n",
    "config.read(\"__fields.ini\")\n",
    "config_db = configparser.ConfigParser()\n",
    "config_db.read(\"__settings.ini\")\n",
    "\n",
    "# linux server\n",
    "# sys.path.append(r'/var/home/rb1/!py_script/patterns')\n",
    "# sys.path.append(r'/var/home/rb1/!py_script')\n",
    "# config = configparser.ConfigParser()\n",
    "# config.read(r'/var/home/rb1/!py_script/__data_fields.ini')\n",
    "# config_db = configparser.ConfigParser()\n",
    "# config_db.read(r'/var/home/rb1/!py_script/__settings.ini')\n",
    "\n",
    "import yd\n",
    "import ym\n",
    "import patterns.click as click\n",
    "import yesterday\n",
    "\n",
    "from sqlalchemy import create_engine\n",
    "from google.oauth2 import service_account"
   ]
  },
  {
   "cell_type": "code",
   "execution_count": null,
   "metadata": {},
   "outputs": [],
   "source": [
    "###########################################################################################\n",
    "################################################################ укажите параметры скрипта\n",
    " # начальная дата\n",
    "dateTo = str(yesterday.getYesterday()) #конечная дата\n",
    "dataset = \"agency_riverstart\" # целевой датасет или база данных для записи\n",
    "\n",
    "mode_write = \"replace\" # перезапись данных\n",
    "#mode_write = \"append\" # добавление данных\n",
    "\n",
    "# GoogleBigQuery - коннект\n",
    "# project_id = 'powerbi4rb'\n",
    "# json_path = r\"patterns\\\\pbi4rb_gbq.json\" # windows 10\n",
    "# json_path = r'/var/home/rb1/!py_script/patterns/pbi4rb_gbq.json' # linux\n",
    "\n",
    "# PostgreSQL - коннект\n",
    "engine = create_engine(\"postgresql://\" + config_db['postgresql']['username'] + ':' + config_db['postgresql']['password'] + '@' + config_db['postgresql']['host'] + ':' + config_db['postgresql']['port'] + \"/\" + dataset)"
   ]
  },
  {
   "cell_type": "code",
   "execution_count": null,
   "metadata": {},
   "outputs": [],
   "source": [
    "########################################################################################\n",
    "################################################################ Итоговые датафреймы (в них собираются данные)\n",
    "agency_costs = pd.DataFrame()\n",
    "agency_conv = pd.DataFrame()"
   ]
  },
  {
   "cell_type": "code",
   "execution_count": null,
   "metadata": {},
   "outputs": [],
   "source": [
    "# Нейминг клиента\n",
    "name_client = \"Пинчер СРМ\"\n",
    "dateFrom = \"2023-04-05\"\n",
    "\n",
    "# Метрика - источники/конверсии. Обязательный пункт, может быть несколько счетчиков.\n",
    "counter = [\n",
    "    {'counter':'68370820', \n",
    "     'token':'XXXXXXXXXXXXXXXX', \n",
    "     'conv':[''],\n",
    "     'dateFrom':dateFrom\n",
    "     }\n",
    "]\n",
    "\n",
    "# Директ - расходы. Можно удалить если источник не используется\n",
    "yd_clientLogin = [\n",
    "    {'login':'pinchercrm-riverstart', \n",
    "        'token':'XXXXXXXXXXXXXXXX',\n",
    "        'dateFrom':dateFrom\n",
    "    },\n",
    "    {'login':'pinscher-sales-client', \n",
    "        'token':'XXXXXXXXXXXXXXXX',\n",
    "        'dateFrom':dateFrom\n",
    "    }\n",
    "]\n",
    "\n",
    "# VK - click.ru расходы. Можно удалить если источник не используется\n",
    "vk_c = [\n",
    "    {'uid':'1675402',\n",
    "     'tkn':'XXXXXXXXXXXXXXXXX',\n",
    "     'dateFrom':dateFrom\n",
    "     }\n",
    "]\n",
    "\n",
    "# MT - click.ru расходы. Можно удалить если источник не используется\n",
    "mt_c = [\n",
    "    {'uid':'1641088',\n",
    "     'tkn':'XXXXXXXXXXXXXXXX',\n",
    "     'dateFrom':dateFrom\n",
    "     }\n",
    "]\n",
    "\n",
    "ga_c = [\n",
    "    {'uid':'1654462',\n",
    "     'tkn':'XXXXXXXXXXXXXXXX',\n",
    "     'dateFrom':dateFrom\n",
    "     }\n",
    "]"
   ]
  },
  {
   "cell_type": "code",
   "execution_count": null,
   "metadata": {},
   "outputs": [],
   "source": [
    "for i in counter:\n",
    "    fields_dim = 'dim_agency' # набор параметров, которые требуется получить. для создания нового набора добавьте в файл data_fields.ini новый список полей для соответствующего источника\n",
    "    fields_met = 'met_agency' # набор метрик, которые требуется получить. для создания нового набора добавьте в файл data_fields.ini новый список полей для соответствующего источника\n",
    "\n",
    "    report_fields_dim = config['yandex_metrika_names'][fields_dim]\n",
    "    report_fields_met = config['yandex_metrika_names'][fields_met]\n",
    "\n",
    "    # goals_ym = ym.convert_goals_s(i['conv'])\n",
    "    # report_fields_met = report_fields_met + ',' + goals_ym\n",
    "\n",
    "    metrika_dataset = ym.get_ym_stat(i['counter'],\"\",i['token'],i['dateFrom'],dateTo,report_fields_met,report_fields_dim)\n",
    "    value_cols = metrika_dataset.filter(like='ym_s_goal').columns\n",
    "    metrika_dataset['Macroconversions'] = metrika_dataset[value_cols].sum(axis=1)\n",
    "    metrika_dataset = metrika_dataset.drop(columns=value_cols)\n",
    "    metrika_dataset['Client'] = name_client\n",
    "    agency_conv = pd.concat([agency_conv, metrika_dataset], ignore_index=True)\n"
   ]
  },
  {
   "cell_type": "code",
   "execution_count": null,
   "metadata": {},
   "outputs": [],
   "source": [
    "##############################################################################################################\n",
    "#################################################### Сбор данных, закомментить ненужные источники\n",
    "\n",
    "##############################################################################\n",
    "############################################################### Яндекс директ\n",
    "\n",
    "for i in yd_clientLogin:\n",
    "    fields = 'yd_agency' # набор полей которые требуется получить. для создания нового набора добавьте в файл data_fields.ini новый список полей для соответствующего источника\n",
    "    report_fields = list(config['yandex_direct_names'][fields].split(\",\"))\n",
    "    direct_dataset = yd.get_data_yd(i['token'], i['login'], \"\", i['dateFrom'], dateTo, 60, report_fields) # функция обращается к api директа и собирает данные\n",
    "    direct_dataset['Client'] = name_client\n",
    "    direct_dataset['TrafficType'] = 'Контекст'\n",
    "    direct_dataset['service'] = 'YANDEX_DIRECT'\n",
    "    agency_costs = pd.concat([agency_costs, direct_dataset], ignore_index=True) # кладем полученный датасет в общий, чтобы сохранить"
   ]
  },
  {
   "cell_type": "code",
   "execution_count": null,
   "metadata": {},
   "outputs": [],
   "source": [
    "##############################################################################\n",
    "############################################################### VK Ads CLICK.RU\n",
    "for i in vk_c:\n",
    "    vk_click_dataset = click.click_vk(i['dateFrom'],dateTo,i['uid'],i['tkn'])\n",
    "    vk_click_dataset['Client'] = name_client\n",
    "    vk_click_dataset = vk_click_dataset.rename(columns={'account':'Login'})\n",
    "    vk_click_dataset = vk_click_dataset[['Date','Impressions','Clicks','Cost','Login','Client','TrafficType','service']]\n",
    "    agency_costs = pd.concat([agency_costs, vk_click_dataset], ignore_index=True)"
   ]
  },
  {
   "cell_type": "code",
   "execution_count": null,
   "metadata": {},
   "outputs": [],
   "source": [
    "##############################################################################\n",
    "############################################################### MyTarget CLICK.RU\n",
    "for i in mt_c:\n",
    "    mt_click_dataset = click.click_mt(i['dateFrom'],dateTo,i['uid'],i['tkn'])\n",
    "    mt_click_dataset['Client'] = name_client\n",
    "    mt_click_dataset = mt_click_dataset.rename(columns={'account':'Login'})\n",
    "    mt_click_dataset = mt_click_dataset[['Date','Impressions','Clicks','Cost','Login','Client','TrafficType','service']]\n",
    "    agency_costs = pd.concat([agency_costs, mt_click_dataset], ignore_index=True)"
   ]
  },
  {
   "cell_type": "code",
   "execution_count": null,
   "metadata": {},
   "outputs": [],
   "source": [
    "##############################################################################\n",
    "############################################################### Google Ads CLICK.RU\n",
    "for i in ga_c:\n",
    "    ga_click_dataset = click.click_ga(i['dateFrom'],dateTo,i['uid'],i['tkn'])\n",
    "    ga_click_dataset['Client'] = name_client\n",
    "    ga_click_dataset = ga_click_dataset.rename(columns={'account':'Login'})\n",
    "    ga_click_dataset = ga_click_dataset[['Date','Impressions','Clicks','Cost','Login','Client','TrafficType','service']]\n",
    "    ga_click_dataset = click.usd_to_rub(i['dateFrom'],dateTo,ga_click_dataset)\n",
    "    agency_costs = pd.concat([agency_costs, ga_click_dataset], ignore_index=True)"
   ]
  },
  {
   "cell_type": "code",
   "execution_count": null,
   "metadata": {},
   "outputs": [],
   "source": [
    "###################################################################################################\n",
    "################################################################ Отправляем полученные данные - GBQ\n",
    "control_dataset.to_gbq(\n",
    "          dataset + \".\" + \"yd_optimize_camp\" + \"_stat\",  # {dataset_name}.{table_name}\n",
    "          project_id=project_id,\n",
    "          if_exists=mode_write,  # fail // append // replace\n",
    "          credentials=service_account.Credentials.from_service_account_file(json_path)\n",
    "         )\n"
   ]
  },
  {
   "cell_type": "code",
   "execution_count": null,
   "metadata": {},
   "outputs": [],
   "source": [
    "###################################################################################################\n",
    "################################################################ Отправляем полученные данные - POSTGRESQL\n",
    "# config = configparser.ConfigParser()\n",
    "# config.read(\"settings.ini\")\n",
    "\n",
    "# # PostgreSQL - коннект\n",
    "# engine = create_engine(\"postgresql://\" + config_db['postgresql']['username'] + ':' + config_db['postgresql']['password'] + '@' + config_db['postgresql']['host'] + ':' + config_db['postgresql']['port'] + \"/\" + dataset)\n",
    "\n",
    "# dataframe - название датафрейма с данными для записи\n",
    "agency_costs.to_sql(\"agency_costs\", engine, if_exists=mode_write)\n",
    "agency_conv.to_sql(\"agency_conv\", engine, if_exists=mode_write)"
   ]
  },
  {
   "cell_type": "code",
   "execution_count": null,
   "metadata": {},
   "outputs": [],
   "source": [
    "df = pd.DataFrame(index=index, columns=['Client','Comment'])\n",
    "df.to_sql(\"input_user\", engine, if_exists=mode_write)"
   ]
  }
 ],
 "metadata": {
  "kernelspec": {
   "display_name": "Python 3",
   "language": "python",
   "name": "python3"
  },
  "language_info": {
   "codemirror_mode": {
    "name": "ipython",
    "version": 3
   },
   "file_extension": ".py",
   "mimetype": "text/x-python",
   "name": "python",
   "nbconvert_exporter": "python",
   "pygments_lexer": "ipython3",
   "version": "3.11.2"
  },
  "orig_nbformat": 4,
  "vscode": {
   "interpreter": {
    "hash": "4710e2785ec96aa408fa3d50ff9256d3f4d9ab1f4f52954663144cf79e3aa182"
   }
  }
 },
 "nbformat": 4,
 "nbformat_minor": 2
}
