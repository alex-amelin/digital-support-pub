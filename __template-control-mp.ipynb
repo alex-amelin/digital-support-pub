{
 "cells": [
  {
   "cell_type": "code",
   "execution_count": 3,
   "metadata": {},
   "outputs": [],
   "source": [
    "import requests\n",
    "import pandas as pd\n",
    "import datetime"
   ]
  },
  {
   "cell_type": "code",
   "execution_count": 22,
   "metadata": {},
   "outputs": [],
   "source": [
    "dateFrom = '2022-01-01'\n",
    "\n",
    "########################################## WB\n",
    "headers = {\n",
    "    'Authorization': \"XXXXXXXXXXXXXXXX\"\n",
    "}"
   ]
  },
  {
   "cell_type": "code",
   "execution_count": 21,
   "metadata": {},
   "outputs": [],
   "source": [
    "########################################## WB\n",
    "url_api = \"https://statistics-api.wildberries.ru/api/v1/supplier/incomes?dateFrom=\" + dateFrom # поставки\n",
    "\n",
    "supplies = requests.get(url_api, headers=headers).json()"
   ]
  },
  {
   "cell_type": "code",
   "execution_count": 23,
   "metadata": {},
   "outputs": [],
   "source": [
    "########################################## WB\n",
    "url_api = \"https://statistics-api.wildberries.ru/api/v1/supplier/stocks?dateFrom=\" + dateFrom # склад\n",
    "\n",
    "warehouse = requests.get(url_api, headers=headers).json()"
   ]
  },
  {
   "cell_type": "code",
   "execution_count": 26,
   "metadata": {},
   "outputs": [],
   "source": [
    "########################################## WB\n",
    "# заказы\n",
    "flag = \"0\" # 1 - только за дату datefrom, 0 - с даты datefrom до 1000000 строк\n",
    "url_api = \"https://statistics-api.wildberries.ru/api/v1/supplier/orders?dateFrom=\" + dateFrom \n",
    "orders = requests.get(url_api, headers=headers).json()"
   ]
  },
  {
   "cell_type": "code",
   "execution_count": 27,
   "metadata": {},
   "outputs": [],
   "source": [
    "########################################## WB\n",
    "# продажи\n",
    "flag = \"0\" # 1 - только за дату datefrom, 0 - с даты datefrom до 1000000 строк\n",
    "url_api = \"https://statistics-api.wildberries.ru/api/v1/supplier/sales?dateFrom=\" + dateFrom + '&flag=' + flag\n",
    "sales = requests.get(url_api, headers=headers).json()"
   ]
  },
  {
   "cell_type": "code",
   "execution_count": 39,
   "metadata": {},
   "outputs": [],
   "source": [
    "########################################## WB\n",
    "# Отчет о продажах по реализации\n",
    "limit = \"100000\" # Максимальное количество строк отчета, возвращаемых методом. Не может быть более 100000\n",
    "dateFrom = \"2022-11-20\"\n",
    "dateTo = \"2023-12-31\" # Конечная дата отчета\n",
    "rrdid = \"1\" \n",
    "url_api = \"https://statistics-api.wildberries.ru/api/v1/supplier/reportDetailByPeriod?dateFrom=\" + dateFrom + '&dateTo=' + dateTo + '&limit=' + limit + '&rrdid=' + rrdid\n",
    "report = requests.get(url_api, headers=headers).json()"
   ]
  },
  {
   "cell_type": "code",
   "execution_count": 6,
   "metadata": {},
   "outputs": [],
   "source": [
    "########################################## OZON\n",
    "headers = {\n",
    "    'Client-Id':'305752',\n",
    "    'Api-Key':'XXXXXXXXXXXXXXXX'\n",
    "}"
   ]
  },
  {
   "cell_type": "code",
   "execution_count": 11,
   "metadata": {},
   "outputs": [],
   "source": [
    "body = {\n",
    "    \"limit\": 1000,\n",
    "    \"offset\": 0,\n",
    "    \"warehouse_type\": \"ALL\"\n",
    "}\n",
    "\n",
    "url_api = \"https://api-seller.ozon.ru/v2/analytics/stock_on_warehouses\"\n",
    "\n",
    "report = requests.post(url_api,body,headers=headers).json()"
   ]
  }
 ],
 "metadata": {
  "kernelspec": {
   "display_name": "Python 3",
   "language": "python",
   "name": "python3"
  },
  "language_info": {
   "codemirror_mode": {
    "name": "ipython",
    "version": 3
   },
   "file_extension": ".py",
   "mimetype": "text/x-python",
   "name": "python",
   "nbconvert_exporter": "python",
   "pygments_lexer": "ipython3",
   "version": "3.11.2"
  },
  "orig_nbformat": 4
 },
 "nbformat": 4,
 "nbformat_minor": 2
}
