{
 "cells": [
  {
   "cell_type": "code",
   "execution_count": 1,
   "metadata": {},
   "outputs": [],
   "source": [
    "##########################################################################################\n",
    "################################################################ Указать название скрипта\n",
    "script = \"__template-control-all.ipynb\""
   ]
  },
  {
   "cell_type": "code",
   "execution_count": 2,
   "metadata": {},
   "outputs": [],
   "source": [
    "##################################################################################\n",
    "################################################################ импорт библиотек\n",
    "import sys\n",
    "import os\n",
    "import configparser\n",
    "import pandas as pd\n",
    "\n",
    "# windows 10\n",
    "fpath = os.path.join(os.path.dirname(script), 'patterns') \n",
    "sys.path.append(fpath)\n",
    "config = configparser.ConfigParser()\n",
    "config.read(\"__fields.ini\")\n",
    "config_db = configparser.ConfigParser()\n",
    "config_db.read(\"__settings.ini\")\n",
    "\n",
    "# linux server\n",
    "# sys.path.append(r'/var/home/rb1/!py_script/patterns')\n",
    "# sys.path.append(r'/var/home/rb1/!py_script')\n",
    "# config = configparser.ConfigParser()\n",
    "# config.read(r'/var/home/rb1/!py_script/__data_fields.ini')\n",
    "# config_db = configparser.ConfigParser()\n",
    "# config_db.read(r'/var/home/rb1/!py_script/__settings.ini')\n",
    "\n",
    "import yd\n",
    "import ym\n",
    "import patterns.click as click\n",
    "import yesterday\n",
    "\n",
    "from sqlalchemy import create_engine\n",
    "from google.oauth2 import service_account"
   ]
  },
  {
   "cell_type": "code",
   "execution_count": 3,
   "metadata": {},
   "outputs": [],
   "source": [
    "###########################################################################################\n",
    "################################################################ укажите параметры скрипта\n",
    "dateTo = str(yesterday.getYesterday()) #конечная дата\n",
    "dataset = \"control_pimu_riverstart\" # целевой датасет или база данных для записи\n",
    "\n",
    "mode_write = \"replace\" # перезапись данных\n",
    "#mode_write = \"append\" # добавление данных\n",
    "\n",
    "# GoogleBigQuery - коннект\n",
    "# project_id = 'powerbi4rb'\n",
    "# json_path = r\"patterns\\\\pbi4rb_gbq.json\" # windows 10\n",
    "# json_path = r'/var/home/rb1/!py_script/patterns/pbi4rb_gbq.json' # linux\n",
    "\n",
    "# PostgreSQL - коннект\n",
    "engine = create_engine(\"postgresql://\" + config_db['postgresql']['username'] + ':' + config_db['postgresql']['password'] + '@' + config_db['postgresql']['host'] + ':' + config_db['postgresql']['port'] + \"/\" + dataset)"
   ]
  },
  {
   "cell_type": "code",
   "execution_count": 4,
   "metadata": {},
   "outputs": [
    {
     "data": {
      "text/plain": [
       "0"
      ]
     },
     "execution_count": 4,
     "metadata": {},
     "output_type": "execute_result"
    }
   ],
   "source": [
    "########################################################################################\n",
    "################################################################ Итоговые датафреймы (в них собираются данные)\n",
    "control_metrika_stats = pd.DataFrame(columns=['date','lastsignTrafficSourceName','lastSignSourceEngineName','lastSignUTMSource','lastSignUTMMedium','lastSignUTMCampaign','startURL','sumVisits','bounceRate','avgPageViews','Login','tag','directID'])\n",
    "control_ydirect_stats = pd.DataFrame(columns=['Date','State','AvgPageviews','BounceRate','CampaignType','CampaignName','CampaignId','AdGroupName','AdGroupId','Criterion','CriterionId','Impressions','Clicks','Cost','Login','tag','custom_dimension'])\n",
    "control_vkads_stats = pd.DataFrame(columns=['Date','Impressions','Clicks','Cost','Login','CampaignId','adUrl','state','CampaignName','tag'])\n",
    "control_mytarget_stats = pd.DataFrame(columns=['Date','Impressions','Clicks','Cost','Login','CampaignId','adUrl','state','CampaignName','tag'])\n",
    "control_google_stats = pd.DataFrame(columns=['Date','Impressions','Clicks','Cost','Login','CampaignId','adUrl','state','CampaignName','tag'])\n",
    "control_assists_camp = pd.DataFrame(columns=['date','utm_medium','utm_source','utm_campaign','tag'])\n",
    "control_assists_sour = pd.DataFrame(columns=['date','lastTrafficSource','source2','tag'])\n",
    "\n",
    "control_metrika_stats.to_sql(\"control_metrika_stats\", engine, if_exists=mode_write)\n",
    "control_ydirect_stats.to_sql(\"control_ydirect_stats\", engine, if_exists=mode_write)\n",
    "control_vkads_stats.to_sql(\"control_vkads_stats\", engine, if_exists=mode_write)\n",
    "control_mytarget_stats.to_sql(\"control_mytarget_stats\", engine, if_exists=mode_write)\n",
    "control_google_stats.to_sql(\"control_google_stats\", engine, if_exists=mode_write)\n",
    "control_assists_camp.to_sql(\"control_assists_camp\", engine, if_exists=mode_write)\n",
    "control_assists_sour.to_sql(\"control_assists_sour\", engine, if_exists=mode_write)"
   ]
  },
  {
   "cell_type": "code",
   "execution_count": 5,
   "metadata": {},
   "outputs": [],
   "source": [
    "dateFrom = \"2023-04-23\"\n",
    "\n",
    "# Метрика - источники/конверсии. Обязательный пункт, может быть несколько счетчиков.\n",
    "counter = [\n",
    "    {'counter':'55104931', \n",
    "    'token':'XXXXXXXXXXXXXXXX', \n",
    "    'conv':['296675548','296673988','292666818'],\n",
    "    'dateFrom':dateFrom,\n",
    "    'page_filter': \"\", #\"EXISTS(ym:s:startURL=*'*tariff*')\", #OR EXISTS(ym:pv:URL=*'*about*')\" - выбрать визиты, где был просмотр URL содержащих tariffs. \n",
    "    'tag':'ПИМУ' # тег для куска данных. необходим для объединения с данными по рекламе\n",
    "    }\n",
    "]\n",
    "\n",
    "# Директ - расходы. Можно удалить если источник не используется\n",
    "\n",
    "custom_dimension = \"LocationOfPresenceName\" # Дополнительный кастомный срез по просьбе клиента\n",
    "\n",
    "yd_clientLogin = [\n",
    "    {'login':'pimunn-riverstart', \n",
    "        'token':'XXXXXXXXXXXXXXXX',\n",
    "        'dateFrom':dateFrom,\n",
    "        'conv':['296675548','296673988','292666818'],\n",
    "        'camp_filter':[], # Укажите рекламные кампании, которые относятся к текущему клиенту. В противном случае будут получены все кампании\n",
    "        'tag':'ПИМУ'\n",
    "    }\n",
    "]\n",
    "\n",
    "# VK - click.ru расходы. Можно удалить если источник не используется\n",
    "vk_c = [\n",
    "    {'uid':'1675402',\n",
    "     'tkn':'XXXXXXXXXXXXXXXX',\n",
    "     'dateFrom':dateFrom,\n",
    "     'camp_filter':[], # Укажите рекламные кампании, которые относятся к текущему клиенту. В противном случае будут получены все кампании\n",
    "     'tag':'aquapark'\n",
    "     },\n",
    "     {'uid':'1675401',\n",
    "     'tkn':'XXXXXXXXXXXXXXXX',\n",
    "     'dateFrom':dateFrom,\n",
    "     'camp_filter':[''], # Укажите рекламные кампании, которые относятся к текущему клиенту. В противном случае будут получены все кампании\n",
    "     'tag':'therm'\n",
    "     }\n",
    "]\n",
    "\n",
    "# MT - click.ru расходы. Можно удалить если источник не используется\n",
    "mt_c = [\n",
    "    {'uid':'1641088',\n",
    "     'tkn':'XXXXXXXXXXXXXXXX',\n",
    "     'dateFrom':dateFrom,\n",
    "     'camp_filter':[], # Укажите рекламные кампании, которые относятся к текущему клиенту. В противном случае будут получены все кампании\n",
    "     'tag':'therm'\n",
    "     }\n",
    "]\n",
    "\n",
    "# GA - click.ru расходы. Можно удалить если источник не используется\n",
    "ga_c = [\n",
    "    {'uid':'1654462',\n",
    "     'tkn':'XXXXXXXXXXXXXXXX',\n",
    "     'dateFrom':dateFrom,\n",
    "     'camp_filter':[], # Укажите рекламные кампании, которые относятся к текущему клиенту. В противном случае будут получены все кампании\n",
    "     'tag':'therm'\n",
    "     }\n",
    "]"
   ]
  },
  {
   "cell_type": "code",
   "execution_count": 6,
   "metadata": {},
   "outputs": [
    {
     "name": "stdout",
     "output_type": "stream",
     "text": [
      "Необходимое кол-во итераций: 1\n",
      "Данные полностью скачены.\n"
     ]
    }
   ],
   "source": [
    "##############################################################################################################\n",
    "#################################################### Яндекс Метрика\n",
    "\n",
    "for i in counter:\n",
    "    fields_dim = 'dim_control_all' # набор параметров, которые требуется получить. для создания нового набора добавьте в файл data_fields.ini новый список полей для соответствующего источника\n",
    "    fields_met = 'met_control_all' # набор метрик, которые требуется получить. для создания нового набора добавьте в файл data_fields.ini новый список полей для соответствующего источника\n",
    "\n",
    "    report_fields_dim = config['yandex_metrika_names'][fields_dim]\n",
    "    report_fields_met = config['yandex_metrika_names'][fields_met]\n",
    "\n",
    "    if i['conv'] == [] or i['conv'] == ['']:\n",
    "        pass\n",
    "    else:\n",
    "        goals_ym = ym.convert_goals_s(i['conv'])\n",
    "        report_fields_met = report_fields_met + ',' + goals_ym\n",
    "\n",
    "    if i['page_filter'] == [] or i['page_filter'] == ['']:\n",
    "        metrika_dataset = ym.get_ym_stat(i['counter'],\"\",i['token'],i['dateFrom'],dateTo,report_fields_met,report_fields_dim)\n",
    "        metrika_dataset.rename(columns=lambda x: x.strip().replace(\"ym_s_goal\", \"Conversions_\"), inplace=True)\n",
    "        metrika_dataset.rename(columns=lambda x: x.strip().replace(\"ym_s_\", \"\"), inplace=True)\n",
    "    else:\n",
    "        values_to_filter = i['page_filter'] #ym:s:startURL\n",
    "        metrika_dataset = ym.get_ym_stat_filter(i['counter'],\"\",i['token'],i['dateFrom'],dateTo,report_fields_met,report_fields_dim,values_to_filter)\n",
    "        metrika_dataset.rename(columns=lambda x: x.strip().replace(\"ym_s_goal\", \"Conversions_\"), inplace=True)\n",
    "        metrika_dataset.rename(columns=lambda x: x.strip().replace(\"ym_s_\", \"\"), inplace=True)\n",
    "    \n",
    "    metrika_dataset['tag'] = i['tag']\n",
    "    control_metrika_stats = pd.concat([control_metrika_stats, metrika_dataset], ignore_index=True)"
   ]
  },
  {
   "cell_type": "code",
   "execution_count": 7,
   "metadata": {},
   "outputs": [
    {
     "name": "stdout",
     "output_type": "stream",
     "text": [
      "296675548  - done\n",
      "296673988  - done\n",
      "292666818  - done\n"
     ]
    },
    {
     "name": "stderr",
     "output_type": "stream",
     "text": [
      "e:\\dev\\digital-support\\patterns\\ym.py:358: SettingWithCopyWarning: \n",
      "A value is trying to be set on a copy of a slice from a DataFrame.\n",
      "Try using .loc[row_indexer,col_indexer] = value instead\n",
      "\n",
      "See the caveats in the documentation: https://pandas.pydata.org/pandas-docs/stable/user_guide/indexing.html#returning-a-view-versus-a-copy\n",
      "  filtered['utm_campaign'] = filtered['ym_s_lastDirectClickOrder'].where(filtered['ym_s_lastDirectClickOrder'] != '', filtered['ym_s_UTMCampaign'])\n",
      "e:\\dev\\digital-support\\patterns\\ym.py:375: FutureWarning: The default value of numeric_only in DataFrameGroupBy.sum is deprecated. In a future version, numeric_only will default to False. Either specify numeric_only or select only columns which should be valid for the function.\n",
      "  ass_camp = ass_camp.groupby(['date', 'utm_medium', 'utm_source', 'utm_campaign']).sum().reset_index()\n"
     ]
    },
    {
     "name": "stdout",
     "output_type": "stream",
     "text": [
      "296675548  - done\n",
      "296673988  - done\n",
      "292666818  - done\n",
      "296675548  - done\n",
      "296673988  - done\n",
      "292666818  - done\n"
     ]
    }
   ],
   "source": [
    "##############################################################################################################\n",
    "#################################################### Яндекс Метрика - Ассоциированные конверсии\n",
    "\n",
    "for i in counter:\n",
    "    ass_camp = ym.associate_conv_camp(i['counter'],i['token'],i['dateFrom'],dateTo,i['conv'])\n",
    "    ass_camp['tag'] = i['tag']\n",
    "    control_assists_camp = pd.concat([control_assists_camp, ass_camp], ignore_index=True)\n",
    "\n",
    "    ass_sour = ym.associate_conv_sour(i['counter'],i['token'],i['dateFrom'],dateTo,i['conv'])\n",
    "    ass_sour['tag'] = i['tag']\n",
    "    control_assists_sour = pd.concat([control_assists_sour, ass_sour], ignore_index=True)"
   ]
  },
  {
   "cell_type": "code",
   "execution_count": 8,
   "metadata": {},
   "outputs": [
    {
     "name": "stdout",
     "output_type": "stream",
     "text": [
      "2023-04-23 2023-06-01\n",
      "Запрошенных дат меньше, чем дней в 1 итерации или все данные получены\n"
     ]
    }
   ],
   "source": [
    "##############################################################################################################\n",
    "#################################################### Яндекс Директ\n",
    "\n",
    "for i in yd_clientLogin:\n",
    "    fields = 'yd_control_all' # набор полей которые требуется получить. для создания нового набора добавьте в файл data_fields.ini новый список полей для соответствующего источника\n",
    "    report_fields = list(config['yandex_direct_names'][fields].split(\",\"))\n",
    "    report_fields.append(custom_dimension)\n",
    "\n",
    "    if i['conv'] == [] or i['conv'] == ['']:\n",
    "        direct_dataset = yd.get_data_yd(i['token'], i['login'], '', i['dateFrom'], dateTo, 60, report_fields)\n",
    "    else:\n",
    "        direct_dataset = yd.get_data_yd(i['token'], i['login'], i['conv'], i['dateFrom'], dateTo, 60, report_fields)\n",
    "    \n",
    "    if i['camp_filter'] == [] or i['camp_filter'] == ['']:\n",
    "        pass\n",
    "    else:\n",
    "        direct_dataset = direct_dataset[direct_dataset['CampaignId'].isin(i['camp_filter'])]\n",
    "\n",
    "    direct_dataset['tag'] = i['tag']\n",
    "    direct_dataset['login'] = i['tag']\n",
    "    get_states = yd.get_ads(i['token'], i['login'])\n",
    "    get_states = get_states.groupby('CampaignId')['State'].first().reset_index()\n",
    "    direct_dataset = direct_dataset.astype({'CampaignId':'int64'})\n",
    "    direct_dataset = pd.merge(get_states, direct_dataset, on='CampaignId', how='outer')\n",
    "    direct_dataset = direct_dataset.rename(columns={custom_dimension: \"custom_dimension\"})\n",
    "    control_ydirect_stats = pd.concat([control_ydirect_stats, direct_dataset], ignore_index=True) # кладем полученный датасет в общий, чтобы сохранить"
   ]
  },
  {
   "cell_type": "code",
   "execution_count": null,
   "metadata": {},
   "outputs": [],
   "source": [
    "##############################################################################\n",
    "############################################################### VK Ads CLICK.RU\n",
    "for i in vk_c:\n",
    "    vk_click_dataset = click.click_vk(i['dateFrom'],dateTo,i['uid'],i['tkn'])\n",
    "    vk_click_dataset = vk_click_dataset.rename(columns={'account':'Login'})\n",
    "    vk_click_dataset = vk_click_dataset[['Date','Impressions','Clicks','Cost','Login','CampaignId','adUrl','state','CampaignName']]\n",
    "    vk_click_dataset = vk_click_dataset.astype({'CampaignId':'string'})\n",
    "\n",
    "    if i['camp_filter'] == [] or i['camp_filter'] == ['']:\n",
    "        pass\n",
    "    else:\n",
    "        vk_click_dataset = vk_click_dataset[vk_click_dataset['CampaignId'].isin(i['camp_filter'])]\n",
    "\n",
    "    vk_click_dataset['tag'] = i['tag']\n",
    "    control_vkads_stats = pd.concat([control_vkads_stats, vk_click_dataset], ignore_index=True)"
   ]
  },
  {
   "cell_type": "code",
   "execution_count": null,
   "metadata": {},
   "outputs": [],
   "source": [
    "##############################################################################\n",
    "############################################################### MyTarget CLICK.RU\n",
    "for i in mt_c:\n",
    "    mt_click_dataset = click.click_mt(i['dateFrom'],dateTo,i['uid'],i['tkn'])\n",
    "    mt_click_dataset = mt_click_dataset.rename(columns={'account':'Login'})\n",
    "    mt_click_dataset = mt_click_dataset[['Date','Impressions','Clicks','Cost','Login','CampaignId','adUrl','state','CampaignName']]\n",
    "    mt_click_dataset = mt_click_dataset.astype({'CampaignId':'string'})\n",
    "\n",
    "    if i['camp_filter'] == [] or i['camp_filter'] == ['']:\n",
    "        pass\n",
    "    else:\n",
    "        mt_click_dataset = mt_click_dataset[mt_click_dataset['CampaignId'].isin(i['camp_filter'])]\n",
    "\n",
    "    mt_click_dataset['tag'] = i['tag']\n",
    "    control_mytarget_stats = pd.concat([control_mytarget_stats, mt_click_dataset], ignore_index=True)"
   ]
  },
  {
   "cell_type": "code",
   "execution_count": null,
   "metadata": {},
   "outputs": [],
   "source": [
    "##############################################################################\n",
    "############################################################### Google Ads CLICK.RU\n",
    "for i in ga_c:\n",
    "    ga_click_dataset = click.click_ga(i['dateFrom'],dateTo,i['uid'],i['tkn'])\n",
    "    ga_click_dataset = ga_click_dataset.rename(columns={'account':'Login'})\n",
    "    ga_click_dataset = ga_click_dataset[['Date','Impressions','Clicks','Cost','Login','CampaignId','adUrl','state','CampaignName']]\n",
    "    ga_click_dataset = click.usd_to_rub(i['dateFrom'],dateTo,ga_click_dataset)\n",
    "    ga_click_dataset = ga_click_dataset.astype({'CampaignId':'string'})\n",
    "\n",
    "    if i['camp_filter'] == [] or i['camp_filter'] == ['']:\n",
    "        pass\n",
    "    else:\n",
    "        ga_click_dataset = ga_click_dataset[ga_click_dataset['CampaignId'].isin(i['camp_filter'])]\n",
    "\n",
    "    ga_click_dataset['tag'] = i['tag']\n",
    "    control_google_stats = pd.concat([control_google_stats, ga_click_dataset], ignore_index=True)"
   ]
  },
  {
   "cell_type": "code",
   "execution_count": 9,
   "metadata": {},
   "outputs": [
    {
     "data": {
      "text/plain": [
       "430"
      ]
     },
     "execution_count": 9,
     "metadata": {},
     "output_type": "execute_result"
    }
   ],
   "source": [
    "###################################################################################################\n",
    "################################################################ Отправляем полученные данные - POSTGRESQL\n",
    "# config = configparser.ConfigParser()\n",
    "# config.read(\"settings.ini\")\n",
    "\n",
    "# # PostgreSQL - коннект\n",
    "# engine = create_engine(\"postgresql://\" + config_db['postgresql']['username'] + ':' + config_db['postgresql']['password'] + '@' + config_db['postgresql']['host'] + ':' + config_db['postgresql']['port'] + \"/\" + dataset)\n",
    "\n",
    "# dataframe - название датафрейма с данными для записи\n",
    "control_metrika_stats.to_sql(\"control_metrika_stats\", engine, if_exists=mode_write)\n",
    "control_ydirect_stats.to_sql(\"control_ydirect_stats\", engine, if_exists=mode_write)\n",
    "control_vkads_stats.to_sql(\"control_vkads_stats\", engine, if_exists=mode_write)\n",
    "control_mytarget_stats.to_sql(\"control_mytarget_stats\", engine, if_exists=mode_write)\n",
    "control_google_stats.to_sql(\"control_google_stats\", engine, if_exists=mode_write)\n",
    "control_assists_camp.to_sql(\"control_assists_camp\", engine, if_exists=mode_write)\n",
    "control_assists_sour.to_sql(\"control_assists_sour\", engine, if_exists=mode_write)"
   ]
  }
 ],
 "metadata": {
  "kernelspec": {
   "display_name": "Python 3",
   "language": "python",
   "name": "python3"
  },
  "language_info": {
   "codemirror_mode": {
    "name": "ipython",
    "version": 3
   },
   "file_extension": ".py",
   "mimetype": "text/x-python",
   "name": "python",
   "nbconvert_exporter": "python",
   "pygments_lexer": "ipython3",
   "version": "3.11.2"
  },
  "orig_nbformat": 4,
  "vscode": {
   "interpreter": {
    "hash": "4710e2785ec96aa408fa3d50ff9256d3f4d9ab1f4f52954663144cf79e3aa182"
   }
  }
 },
 "nbformat": 4,
 "nbformat_minor": 2
}
